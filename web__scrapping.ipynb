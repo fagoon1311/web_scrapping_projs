{
 "cells": [
  {
   "cell_type": "code",
   "execution_count": 20,
   "id": "2608bae9",
   "metadata": {},
   "outputs": [],
   "source": [
    "#Python library for pulling data out of HTML and XML files.\n",
    "from bs4 import BeautifulSoup\n",
    "import requests\n",
    "import smtplib\n",
    "#The smtplib module defines an SMTP client session object that can be used to send mail to any internet machine with \n",
    "#an SMTP or ESMTP listener daemon\n",
    "import time\n",
    "import datetime"
   ]
  },
  {
   "cell_type": "code",
   "execution_count": 21,
   "id": "f30990fb",
   "metadata": {},
   "outputs": [
    {
     "name": "stdout",
     "output_type": "stream",
     "text": [
      "\n",
      "                   Got Data? Funny Data Analyst Data Scientist Premium T-Shirt\n",
      "                  \n",
      "$21.99\n"
     ]
    }
   ],
   "source": [
    "url = 'https://www.amazon.com/dp/B0BWYSBZ2T/ref=sr_1_12?crid=2E1K89LEJMBLU&keywords=got+data+tshirt&qid=1677514160&sprefix=got+data+tshir%2Caps%2C297&sr=8-12'\n",
    "\n",
    "headers = {'User-agent':'Mozilla/5.0 (Windows NT 10.0; Win64; x64) AppleWebKit/537.36 (KHTML, like Gecko) Chrome/110.0.0.0 Safari/537.36',\"Accept-Encoding\":\"gzip, deflate\", \"Accept\":\"text/html,application/xhtml+xml,application/xml;q=0.9,*/*;q=0.8\", \"DNT\":\"1\",\"Connection\":\"close\", \"Upgrade-Insecure-Requests\":\"1\"}\n",
    "\n",
    "# page = requests.get(url, headers=headers)\n",
    "soup1 = BeautifulSoup(page.content, 'html.parser')\n",
    "# soup1\n",
    "soup2 = BeautifulSoup(soup1.prettify(), 'html.parser')\n",
    "title = soup2.find(id='productTitle').get_text()\n",
    "price = soup2.find('span', {'class':\"a-offscreen\"}).text.strip()\n",
    "\n",
    "print(title)\n",
    "print(price)"
   ]
  },
  {
   "cell_type": "code",
   "execution_count": 22,
   "id": "6999e512",
   "metadata": {},
   "outputs": [],
   "source": [
    "price=price.strip()[1:]\n",
    "title=title.strip()"
   ]
  },
  {
   "cell_type": "code",
   "execution_count": 23,
   "id": "acd74033",
   "metadata": {},
   "outputs": [
    {
     "name": "stdout",
     "output_type": "stream",
     "text": [
      "Got Data? Funny Data Analyst Data Scientist Premium T-Shirt\n",
      "21.99\n"
     ]
    }
   ],
   "source": [
    "print(title)\n",
    "print(price)"
   ]
  },
  {
   "cell_type": "code",
   "execution_count": 26,
   "id": "5fa9c357",
   "metadata": {},
   "outputs": [
    {
     "name": "stdout",
     "output_type": "stream",
     "text": [
      "2023-02-27\n"
     ]
    }
   ],
   "source": [
    "today = datetime.date.today()\n",
    "print(today)"
   ]
  },
  {
   "cell_type": "code",
   "execution_count": 28,
   "id": "c9c39d39",
   "metadata": {},
   "outputs": [],
   "source": [
    "import csv\n",
    "header = ['Title', 'Price', 'Date']\n",
    "data = [title,price,today]\n",
    "\n",
    "# with open('AmznWebScrprDataset.csv', 'w', newline='', encoding='UTF8') as f:\n",
    "#     writer = csv.writer(f)\n",
    "#     writer.writerow(header)\n",
    "#     writer.writerow(data)\n",
    "#               ---------------------read this line at the last --------------------------------------\n",
    "      # ************** This has been commented out so that we dont run it by mistake again hence deleting our data************\n",
    "#          -----------------------------------------------------------------------------------------------    \n",
    "# the first 2 lines create the csv while the next 2 writes the header and data\n",
    "# this is used just for the initial setup for our csv and later we will make a new method to append into the dataset."
   ]
  },
  {
   "cell_type": "code",
   "execution_count": 34,
   "id": "2816b60a",
   "metadata": {},
   "outputs": [
    {
     "data": {
      "text/html": [
       "<div>\n",
       "<style scoped>\n",
       "    .dataframe tbody tr th:only-of-type {\n",
       "        vertical-align: middle;\n",
       "    }\n",
       "\n",
       "    .dataframe tbody tr th {\n",
       "        vertical-align: top;\n",
       "    }\n",
       "\n",
       "    .dataframe thead th {\n",
       "        text-align: right;\n",
       "    }\n",
       "</style>\n",
       "<table border=\"1\" class=\"dataframe\">\n",
       "  <thead>\n",
       "    <tr style=\"text-align: right;\">\n",
       "      <th></th>\n",
       "      <th>Title</th>\n",
       "      <th>Price</th>\n",
       "      <th>Date</th>\n",
       "    </tr>\n",
       "  </thead>\n",
       "  <tbody>\n",
       "    <tr>\n",
       "      <th>0</th>\n",
       "      <td>Got Data? Funny Data Analyst Data Scientist Pr...</td>\n",
       "      <td>21.99</td>\n",
       "      <td>2023-02-27</td>\n",
       "    </tr>\n",
       "    <tr>\n",
       "      <th>1</th>\n",
       "      <td>Got Data? Funny Data Analyst Data Scientist Pr...</td>\n",
       "      <td>21.99</td>\n",
       "      <td>2023-02-27</td>\n",
       "    </tr>\n",
       "    <tr>\n",
       "      <th>2</th>\n",
       "      <td>Got Data? Funny Data Analyst Data Scientist Pr...</td>\n",
       "      <td>21.99</td>\n",
       "      <td>2023-02-27</td>\n",
       "    </tr>\n",
       "  </tbody>\n",
       "</table>\n",
       "</div>"
      ],
      "text/plain": [
       "                                               Title  Price        Date\n",
       "0  Got Data? Funny Data Analyst Data Scientist Pr...  21.99  2023-02-27\n",
       "1  Got Data? Funny Data Analyst Data Scientist Pr...  21.99  2023-02-27\n",
       "2  Got Data? Funny Data Analyst Data Scientist Pr...  21.99  2023-02-27"
      ]
     },
     "execution_count": 34,
     "metadata": {},
     "output_type": "execute_result"
    }
   ],
   "source": [
    "# it can be annoying to switch to excel again n again to keep a check on our newly created csv so we can instead use pandas \n",
    "# to view it here itself.\n",
    "import pandas as pd \n",
    "df = pd.read_csv('AmznWebScrprDataset.csv')\n",
    "df"
   ]
  },
  {
   "cell_type": "code",
   "execution_count": 35,
   "id": "552483ee",
   "metadata": {},
   "outputs": [],
   "source": [
    "# now we will append data\n",
    "with open('AmznWebScrprDataset.csv', 'a+', newline='', encoding='UTF8') as f:\n",
    "    writer = csv.writer(f)\n",
    "#   writer.writerow(header) we dont need this line anymore as it was just for the headers to be created in the intialisation.\n",
    "    writer.writerow(data)\n",
    "    \n"
   ]
  },
  {
   "cell_type": "code",
   "execution_count": 37,
   "id": "c9ffee1d",
   "metadata": {},
   "outputs": [],
   "source": [
    "def price_check():\n",
    "    url = 'https://www.amazon.com/dp/B0BWYSBZ2T/ref=sr_1_12?crid=2E1K89LEJMBLU&keywords=got+data+tshirt&qid=1677514160&sprefix=got+data+tshir%2Caps%2C297&sr=8-12'\n",
    "\n",
    "    headers = {'User-agent':'Mozilla/5.0 (Windows NT 10.0; Win64; x64) AppleWebKit/537.36 (KHTML, like Gecko) Chrome/110.0.0.0 Safari/537.36',\"Accept-Encoding\":\"gzip, deflate\", \"Accept\":\"text/html,application/xhtml+xml,application/xml;q=0.9,*/*;q=0.8\", \"DNT\":\"1\",\"Connection\":\"close\", \"Upgrade-Insecure-Requests\":\"1\"}\n",
    "\n",
    "    # page = requests.get(url, headers=headers)\n",
    "    soup1 = BeautifulSoup(page.content, 'html.parser')\n",
    "    # soup1\n",
    "    soup2 = BeautifulSoup(soup1.prettify(), 'html.parser')\n",
    "    title = soup2.find(id='productTitle').get_text()\n",
    "    price = soup2.find('span', {'class':\"a-offscreen\"}).text.strip()\n",
    "    price=price.strip()[1:]\n",
    "    title=title.strip()\n",
    "    import datetime\n",
    "    today = datetime.date.today()\n",
    "    import csv\n",
    "    header = ['Title', 'Price', 'Date']\n",
    "    data = [title,price,today]\n",
    "    with open('AmznWebScrprDataset.csv', 'a+', newline='', encoding='UTF8') as f:\n",
    "        writer = csv.writer(f)\n",
    "    \n",
    "        writer.writerow(data)\n",
    "    \n",
    "# This function is designed to pull the data from the url and then append it to the dataset.\n",
    "\n",
    "    "
   ]
  },
  {
   "cell_type": "code",
   "execution_count": 39,
   "id": "335cf9fb",
   "metadata": {},
   "outputs": [
    {
     "ename": "KeyboardInterrupt",
     "evalue": "",
     "output_type": "error",
     "traceback": [
      "\u001b[1;31m---------------------------------------------------------------------------\u001b[0m",
      "\u001b[1;31mKeyboardInterrupt\u001b[0m                         Traceback (most recent call last)",
      "\u001b[1;32m~\\AppData\\Local\\Temp\\ipykernel_12112\\261455830.py\u001b[0m in \u001b[0;36m<module>\u001b[1;34m\u001b[0m\n\u001b[0;32m      1\u001b[0m \u001b[1;32mwhile\u001b[0m\u001b[1;33m(\u001b[0m\u001b[1;32mTrue\u001b[0m\u001b[1;33m)\u001b[0m\u001b[1;33m:\u001b[0m\u001b[1;33m\u001b[0m\u001b[1;33m\u001b[0m\u001b[0m\n\u001b[0;32m      2\u001b[0m     \u001b[0mprice_check\u001b[0m\u001b[1;33m(\u001b[0m\u001b[1;33m)\u001b[0m\u001b[1;33m\u001b[0m\u001b[1;33m\u001b[0m\u001b[0m\n\u001b[1;32m----> 3\u001b[1;33m     \u001b[0mtime\u001b[0m\u001b[1;33m.\u001b[0m\u001b[0msleep\u001b[0m\u001b[1;33m(\u001b[0m\u001b[1;36m2\u001b[0m\u001b[1;33m)\u001b[0m\u001b[1;33m\u001b[0m\u001b[1;33m\u001b[0m\u001b[0m\n\u001b[0m",
      "\u001b[1;31mKeyboardInterrupt\u001b[0m: "
     ]
    }
   ],
   "source": [
    "# here we are pulling data with the help of a sleep timer whihc pulls data every specified seconds as the arguement.\n",
    "while(True):\n",
    "    price_check()\n",
    "    time.sleep(2)"
   ]
  },
  {
   "cell_type": "code",
   "execution_count": 40,
   "id": "87be6e15",
   "metadata": {},
   "outputs": [
    {
     "data": {
      "text/html": [
       "<div>\n",
       "<style scoped>\n",
       "    .dataframe tbody tr th:only-of-type {\n",
       "        vertical-align: middle;\n",
       "    }\n",
       "\n",
       "    .dataframe tbody tr th {\n",
       "        vertical-align: top;\n",
       "    }\n",
       "\n",
       "    .dataframe thead th {\n",
       "        text-align: right;\n",
       "    }\n",
       "</style>\n",
       "<table border=\"1\" class=\"dataframe\">\n",
       "  <thead>\n",
       "    <tr style=\"text-align: right;\">\n",
       "      <th></th>\n",
       "      <th>Title</th>\n",
       "      <th>Price</th>\n",
       "      <th>Date</th>\n",
       "    </tr>\n",
       "  </thead>\n",
       "  <tbody>\n",
       "    <tr>\n",
       "      <th>0</th>\n",
       "      <td>Got Data? Funny Data Analyst Data Scientist Pr...</td>\n",
       "      <td>21.99</td>\n",
       "      <td>2023-02-27</td>\n",
       "    </tr>\n",
       "    <tr>\n",
       "      <th>1</th>\n",
       "      <td>Got Data? Funny Data Analyst Data Scientist Pr...</td>\n",
       "      <td>21.99</td>\n",
       "      <td>2023-02-27</td>\n",
       "    </tr>\n",
       "    <tr>\n",
       "      <th>2</th>\n",
       "      <td>Got Data? Funny Data Analyst Data Scientist Pr...</td>\n",
       "      <td>21.99</td>\n",
       "      <td>2023-02-27</td>\n",
       "    </tr>\n",
       "    <tr>\n",
       "      <th>3</th>\n",
       "      <td>Got Data? Funny Data Analyst Data Scientist Pr...</td>\n",
       "      <td>21.99</td>\n",
       "      <td>2023-02-27</td>\n",
       "    </tr>\n",
       "    <tr>\n",
       "      <th>4</th>\n",
       "      <td>Got Data? Funny Data Analyst Data Scientist Pr...</td>\n",
       "      <td>21.99</td>\n",
       "      <td>2023-02-27</td>\n",
       "    </tr>\n",
       "    <tr>\n",
       "      <th>5</th>\n",
       "      <td>Got Data? Funny Data Analyst Data Scientist Pr...</td>\n",
       "      <td>21.99</td>\n",
       "      <td>2023-02-27</td>\n",
       "    </tr>\n",
       "    <tr>\n",
       "      <th>6</th>\n",
       "      <td>Got Data? Funny Data Analyst Data Scientist Pr...</td>\n",
       "      <td>21.99</td>\n",
       "      <td>2023-02-27</td>\n",
       "    </tr>\n",
       "    <tr>\n",
       "      <th>7</th>\n",
       "      <td>Got Data? Funny Data Analyst Data Scientist Pr...</td>\n",
       "      <td>21.99</td>\n",
       "      <td>2023-02-27</td>\n",
       "    </tr>\n",
       "    <tr>\n",
       "      <th>8</th>\n",
       "      <td>Got Data? Funny Data Analyst Data Scientist Pr...</td>\n",
       "      <td>21.99</td>\n",
       "      <td>2023-02-27</td>\n",
       "    </tr>\n",
       "    <tr>\n",
       "      <th>9</th>\n",
       "      <td>Got Data? Funny Data Analyst Data Scientist Pr...</td>\n",
       "      <td>21.99</td>\n",
       "      <td>2023-02-27</td>\n",
       "    </tr>\n",
       "    <tr>\n",
       "      <th>10</th>\n",
       "      <td>Got Data? Funny Data Analyst Data Scientist Pr...</td>\n",
       "      <td>21.99</td>\n",
       "      <td>2023-02-27</td>\n",
       "    </tr>\n",
       "  </tbody>\n",
       "</table>\n",
       "</div>"
      ],
      "text/plain": [
       "                                                Title  Price        Date\n",
       "0   Got Data? Funny Data Analyst Data Scientist Pr...  21.99  2023-02-27\n",
       "1   Got Data? Funny Data Analyst Data Scientist Pr...  21.99  2023-02-27\n",
       "2   Got Data? Funny Data Analyst Data Scientist Pr...  21.99  2023-02-27\n",
       "3   Got Data? Funny Data Analyst Data Scientist Pr...  21.99  2023-02-27\n",
       "4   Got Data? Funny Data Analyst Data Scientist Pr...  21.99  2023-02-27\n",
       "5   Got Data? Funny Data Analyst Data Scientist Pr...  21.99  2023-02-27\n",
       "6   Got Data? Funny Data Analyst Data Scientist Pr...  21.99  2023-02-27\n",
       "7   Got Data? Funny Data Analyst Data Scientist Pr...  21.99  2023-02-27\n",
       "8   Got Data? Funny Data Analyst Data Scientist Pr...  21.99  2023-02-27\n",
       "9   Got Data? Funny Data Analyst Data Scientist Pr...  21.99  2023-02-27\n",
       "10  Got Data? Funny Data Analyst Data Scientist Pr...  21.99  2023-02-27"
      ]
     },
     "execution_count": 40,
     "metadata": {},
     "output_type": "execute_result"
    }
   ],
   "source": [
    "import pandas as pd \n",
    "df = pd.read_csv('AmznWebScrprDataset.csv')\n",
    "df"
   ]
  },
  {
   "cell_type": "code",
   "execution_count": null,
   "id": "7dc694ef",
   "metadata": {},
   "outputs": [],
   "source": [
    "# If uou want to try sending yourself an email (just for fun) when a price hits below a certain level you can try it\n",
    "# out with this script\n",
    "\n",
    "def send_mail():\n",
    "    server = smtplib.SMTP_SSL('smtp.gmail.com',465)\n",
    "    server.ehlo()\n",
    "    #server.starttls()\n",
    "    server.ehlo()\n",
    "    server.login('fs14smailbox65@gmail.com','xxxxxxxxxxxxxx')\n",
    "    \n",
    "    subject = \"The Shirt you want is below $15! Now is your chance to buy!\"\n",
    "    body = \"Fagoon, This is the moment we have been waiting for. Now is your chance to pick up the shirt of your dreams. Don't mess it up! Link here: https://www.amazon.com/Funny-Data-Systems-Business-Analyst/dp/B07FNW9FGJ/ref=sr_1_3?dchild=1&keywords=data+analyst+tshirt&qid=1626655184&sr=8-3\"\n",
    "   \n",
    "    msg = f\"Subject: {subject}\\n\\n{body}\"\n",
    "    \n",
    "    server.sendmail(\n",
    "        'fs14smailbox65@gmail.com',\n",
    "        msg\n",
    "     \n",
    "    )"
   ]
  }
 ],
 "metadata": {
  "kernelspec": {
   "display_name": "Python 3 (ipykernel)",
   "language": "python",
   "name": "python3"
  },
  "language_info": {
   "codemirror_mode": {
    "name": "ipython",
    "version": 3
   },
   "file_extension": ".py",
   "mimetype": "text/x-python",
   "name": "python",
   "nbconvert_exporter": "python",
   "pygments_lexer": "ipython3",
   "version": "3.9.13"
  }
 },
 "nbformat": 4,
 "nbformat_minor": 5
}
